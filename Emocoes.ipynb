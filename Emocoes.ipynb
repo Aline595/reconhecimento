{
 "cells": [
  {
   "cell_type": "code",
   "execution_count": 29,
   "metadata": {},
   "outputs": [],
   "source": [
    "#Importações\n",
    "from PIL import Image\n",
    "from os import listdir\n",
    "from os.path import isdir\n",
    "import numpy as np\n",
    "from sklearn.model_selection import train_test_split\n",
    "from sklearn.preprocessing import LabelBinarizer\n",
    "from tensorflow.keras.preprocessing.image import ImageDataGenerator\n",
    "from tensorflow.keras.applications import VGG19\n",
    "from tensorflow.keras.utils import to_categorical\n",
    "from tensorflow.keras import layers\n",
    "from tensorflow.keras import models\n",
    "from tensorflow.keras import optimizers"
   ]
  },
  {
   "cell_type": "code",
   "execution_count": 30,
   "metadata": {},
   "outputs": [],
   "source": [
    "#Carregar imagem\n",
    "def select_image(filename):\n",
    "    image = Image.open(filename)# Abrir arquivo\n",
    "    image = image.convert('RGB')#transformar em RGB\n",
    "    image = image.resize((160,160))\n",
    "    return np.asarray(image)"
   ]
  },
  {
   "cell_type": "code",
   "execution_count": 31,
   "metadata": {},
   "outputs": [],
   "source": [
    "#Carregando uma classe\n",
    "def load_classes(diretorio, classe, imagens, labels):\n",
    "    # iterando arquivos\n",
    "\n",
    "    for filename in listdir(diretorio):\n",
    "\n",
    "        path = diretorio + filename\n",
    "\n",
    "        try:\n",
    "            imagens.append(select_image(path))\n",
    "            labels.append(classe)\n",
    "        except:\n",
    "            print(\"Erro ao ler imagem {}\".format(path))\n",
    "\n",
    "    return imagens, labels"
   ]
  },
  {
   "cell_type": "code",
   "execution_count": 32,
   "metadata": {},
   "outputs": [],
   "source": [
    "# Selecionar o Dataset\n",
    "def select_data_set(diretorio):\n",
    "\n",
    "    imagens = list()\n",
    "    labels = list()\n",
    "\n",
    "    for subdir in listdir(diretorio):\n",
    "        # path\n",
    "        path = diretorio + subdir + '\\\\'\n",
    "\n",
    "        if not isdir(path):\n",
    "            continue\n",
    "        imagens, labels = load_classes(path, subdir, imagens, labels)\n",
    "\n",
    "    return imagens, labels"
   ]
  },
  {
   "cell_type": "code",
   "execution_count": 33,
   "metadata": {},
   "outputs": [],
   "source": [
    "faces_dataset = \"C:\\\\Users\\\\NAJA INFORMATICA\\\\Desktop\\\\Nova pasta\\\\fotos\\\\\" # Colocar o caminho absoluto do dataset\n",
    "imagens, labels  = select_data_set(faces_dataset)\n",
    "imagens = np.array(imagens) / 255.0  ## convertendo de lista para array\n",
    "labels = np.array(labels)  ## convertendo de lista para array"
   ]
  },
  {
   "cell_type": "code",
   "execution_count": 34,
   "metadata": {},
   "outputs": [
    {
     "data": {
      "text/plain": [
       "'neutral'"
      ]
     },
     "execution_count": 34,
     "metadata": {},
     "output_type": "execute_result"
    }
   ],
   "source": [
    "labels[300]"
   ]
  },
  {
   "cell_type": "code",
   "execution_count": 35,
   "metadata": {},
   "outputs": [
    {
     "data": {
      "text/plain": [
       "array([1., 0.], dtype=float32)"
      ]
     },
     "execution_count": 35,
     "metadata": {},
     "output_type": "execute_result"
    }
   ],
   "source": [
    "#Transformar em binario Happy e neutro\n",
    "lb = LabelBinarizer()\n",
    "labels = lb.fit_transform(labels)\n",
    "labels = to_categorical(labels)\n",
    "\n",
    "labels[1]"
   ]
  },
  {
   "cell_type": "code",
   "execution_count": 36,
   "metadata": {},
   "outputs": [],
   "source": [
    "#Definir hiperparametros\n",
    "\n",
    "batch_size   = 32\n",
    "input_shape  = (160, 160, 3)\n",
    "random_state = 42\n",
    "alpha        = 1e-5\n",
    "epoch        = 30"
   ]
  },
  {
   "cell_type": "code",
   "execution_count": 37,
   "metadata": {},
   "outputs": [],
   "source": [
    "#Callback -> treinamento usando keras\n",
    "from tensorflow.keras.callbacks import ModelCheckpoint, ReduceLROnPlateau"
   ]
  },
  {
   "cell_type": "code",
   "execution_count": 38,
   "metadata": {},
   "outputs": [],
   "source": [
    "#Salva o módelo em cada epoca que é executada\n",
    "filepath=\"detector.h5\"\n",
    "checkpoint = ModelCheckpoint(filepath, monitor='val_acc', verbose=1, save_best_only=True, mode='max')"
   ]
  },
  {
   "cell_type": "code",
   "execution_count": 39,
   "metadata": {},
   "outputs": [],
   "source": [
    "#Evitar plateau -> aumentar a acuracia \n",
    "lr_reduce = ReduceLROnPlateau(monitor='val_acc', factor=0.1, min_delta=alpha, patience=5, verbose=1)"
   ]
  },
  {
   "cell_type": "code",
   "execution_count": 40,
   "metadata": {},
   "outputs": [],
   "source": [
    "callbacks = [checkpoint, lr_reduce]"
   ]
  },
  {
   "cell_type": "code",
   "execution_count": 42,
   "metadata": {},
   "outputs": [],
   "source": [
    "#Dividir o dataset\n",
    "(trainX, testX, trainY, testY) = train_test_split(imagens, labels, test_size=0.20, stratify=labels, random_state=random_state)"
   ]
  },
  {
   "cell_type": "code",
   "execution_count": 43,
   "metadata": {},
   "outputs": [],
   "source": [
    "#Aumentar dados\n",
    "train_datagen = ImageDataGenerator(\n",
    "        horizontal_flip= True,\n",
    "        rotation_range=20,\n",
    "        zoom_range=0.2,\n",
    "        width_shift_range=0.2,\n",
    "        height_shift_range=0.2,\n",
    "        shear_range=0.2,\n",
    "        fill_mode='nearest'\n",
    "        )\n",
    "\n",
    "train_datagen.fit(trainX)\n",
    "\n",
    "data_aug = train_datagen.flow(trainX, trainY, batch_size=batch_size)"
   ]
  },
  {
   "cell_type": "code",
   "execution_count": 44,
   "metadata": {},
   "outputs": [],
   "source": [
    "# Transfer learning\n",
    "conv_base = VGG19(weights='imagenet', include_top=False, input_shape=input_shape)"
   ]
  },
  {
   "cell_type": "code",
   "execution_count": 45,
   "metadata": {},
   "outputs": [
    {
     "name": "stdout",
     "output_type": "stream",
     "text": [
      "Model: \"vgg19\"\n",
      "_________________________________________________________________\n",
      "Layer (type)                 Output Shape              Param #   \n",
      "=================================================================\n",
      "input_1 (InputLayer)         [(None, 160, 160, 3)]     0         \n",
      "_________________________________________________________________\n",
      "block1_conv1 (Conv2D)        (None, 160, 160, 64)      1792      \n",
      "_________________________________________________________________\n",
      "block1_conv2 (Conv2D)        (None, 160, 160, 64)      36928     \n",
      "_________________________________________________________________\n",
      "block1_pool (MaxPooling2D)   (None, 80, 80, 64)        0         \n",
      "_________________________________________________________________\n",
      "block2_conv1 (Conv2D)        (None, 80, 80, 128)       73856     \n",
      "_________________________________________________________________\n",
      "block2_conv2 (Conv2D)        (None, 80, 80, 128)       147584    \n",
      "_________________________________________________________________\n",
      "block2_pool (MaxPooling2D)   (None, 40, 40, 128)       0         \n",
      "_________________________________________________________________\n",
      "block3_conv1 (Conv2D)        (None, 40, 40, 256)       295168    \n",
      "_________________________________________________________________\n",
      "block3_conv2 (Conv2D)        (None, 40, 40, 256)       590080    \n",
      "_________________________________________________________________\n",
      "block3_conv3 (Conv2D)        (None, 40, 40, 256)       590080    \n",
      "_________________________________________________________________\n",
      "block3_conv4 (Conv2D)        (None, 40, 40, 256)       590080    \n",
      "_________________________________________________________________\n",
      "block3_pool (MaxPooling2D)   (None, 20, 20, 256)       0         \n",
      "_________________________________________________________________\n",
      "block4_conv1 (Conv2D)        (None, 20, 20, 512)       1180160   \n",
      "_________________________________________________________________\n",
      "block4_conv2 (Conv2D)        (None, 20, 20, 512)       2359808   \n",
      "_________________________________________________________________\n",
      "block4_conv3 (Conv2D)        (None, 20, 20, 512)       2359808   \n",
      "_________________________________________________________________\n",
      "block4_conv4 (Conv2D)        (None, 20, 20, 512)       2359808   \n",
      "_________________________________________________________________\n",
      "block4_pool (MaxPooling2D)   (None, 10, 10, 512)       0         \n",
      "_________________________________________________________________\n",
      "block5_conv1 (Conv2D)        (None, 10, 10, 512)       2359808   \n",
      "_________________________________________________________________\n",
      "block5_conv2 (Conv2D)        (None, 10, 10, 512)       2359808   \n",
      "_________________________________________________________________\n",
      "block5_conv3 (Conv2D)        (None, 10, 10, 512)       2359808   \n",
      "_________________________________________________________________\n",
      "block5_conv4 (Conv2D)        (None, 10, 10, 512)       2359808   \n",
      "_________________________________________________________________\n",
      "block5_pool (MaxPooling2D)   (None, 5, 5, 512)         0         \n",
      "=================================================================\n",
      "Total params: 20,024,384\n",
      "Trainable params: 20,024,384\n",
      "Non-trainable params: 0\n",
      "_________________________________________________________________\n"
     ]
    }
   ],
   "source": [
    "conv_base.summary()"
   ]
  },
  {
   "cell_type": "code",
   "execution_count": 46,
   "metadata": {},
   "outputs": [],
   "source": [
    "# Dimuir parametros da vgg\n",
    "\n",
    "conv_base.trainable = True\n",
    "set_trainable = False"
   ]
  },
  {
   "cell_type": "code",
   "execution_count": 47,
   "metadata": {},
   "outputs": [
    {
     "name": "stdout",
     "output_type": "stream",
     "text": [
      "Model: \"vgg19\"\n",
      "_________________________________________________________________\n",
      "Layer (type)                 Output Shape              Param #   \n",
      "=================================================================\n",
      "input_1 (InputLayer)         [(None, 160, 160, 3)]     0         \n",
      "_________________________________________________________________\n",
      "block1_conv1 (Conv2D)        (None, 160, 160, 64)      1792      \n",
      "_________________________________________________________________\n",
      "block1_conv2 (Conv2D)        (None, 160, 160, 64)      36928     \n",
      "_________________________________________________________________\n",
      "block1_pool (MaxPooling2D)   (None, 80, 80, 64)        0         \n",
      "_________________________________________________________________\n",
      "block2_conv1 (Conv2D)        (None, 80, 80, 128)       73856     \n",
      "_________________________________________________________________\n",
      "block2_conv2 (Conv2D)        (None, 80, 80, 128)       147584    \n",
      "_________________________________________________________________\n",
      "block2_pool (MaxPooling2D)   (None, 40, 40, 128)       0         \n",
      "_________________________________________________________________\n",
      "block3_conv1 (Conv2D)        (None, 40, 40, 256)       295168    \n",
      "_________________________________________________________________\n",
      "block3_conv2 (Conv2D)        (None, 40, 40, 256)       590080    \n",
      "_________________________________________________________________\n",
      "block3_conv3 (Conv2D)        (None, 40, 40, 256)       590080    \n",
      "_________________________________________________________________\n",
      "block3_conv4 (Conv2D)        (None, 40, 40, 256)       590080    \n",
      "_________________________________________________________________\n",
      "block3_pool (MaxPooling2D)   (None, 20, 20, 256)       0         \n",
      "_________________________________________________________________\n",
      "block4_conv1 (Conv2D)        (None, 20, 20, 512)       1180160   \n",
      "_________________________________________________________________\n",
      "block4_conv2 (Conv2D)        (None, 20, 20, 512)       2359808   \n",
      "_________________________________________________________________\n",
      "block4_conv3 (Conv2D)        (None, 20, 20, 512)       2359808   \n",
      "_________________________________________________________________\n",
      "block4_conv4 (Conv2D)        (None, 20, 20, 512)       2359808   \n",
      "_________________________________________________________________\n",
      "block4_pool (MaxPooling2D)   (None, 10, 10, 512)       0         \n",
      "_________________________________________________________________\n",
      "block5_conv1 (Conv2D)        (None, 10, 10, 512)       2359808   \n",
      "_________________________________________________________________\n",
      "block5_conv2 (Conv2D)        (None, 10, 10, 512)       2359808   \n",
      "_________________________________________________________________\n",
      "block5_conv3 (Conv2D)        (None, 10, 10, 512)       2359808   \n",
      "_________________________________________________________________\n",
      "block5_conv4 (Conv2D)        (None, 10, 10, 512)       2359808   \n",
      "_________________________________________________________________\n",
      "block5_pool (MaxPooling2D)   (None, 5, 5, 512)         0         \n",
      "=================================================================\n",
      "Total params: 20,024,384\n",
      "Trainable params: 20,024,384\n",
      "Non-trainable params: 0\n",
      "_________________________________________________________________\n"
     ]
    }
   ],
   "source": [
    "conv_base.summary()"
   ]
  },
  {
   "cell_type": "code",
   "execution_count": 48,
   "metadata": {},
   "outputs": [],
   "source": [
    "model = models.Sequential()\n",
    "model.add(conv_base) #vgg19\n",
    "model.add(layers.GlobalAveragePooling2D()) # reduzir a resolução\n",
    "model.add(layers.BatchNormalization()) #Aumentar a estabilidade da rede neural\n",
    "model.add(layers.Flatten())\n",
    "model.add(layers.Dense(32, activation='relu'))# camada densa, número de neuronios\n",
    "model.add(layers.Dropout(0.5))# generalizar a rede neural\n",
    "model.add(layers.Dense(2, activation='softmax')) # camada de saida "
   ]
  },
  {
   "cell_type": "code",
   "execution_count": 49,
   "metadata": {},
   "outputs": [
    {
     "name": "stdout",
     "output_type": "stream",
     "text": [
      "Model: \"sequential\"\n",
      "_________________________________________________________________\n",
      "Layer (type)                 Output Shape              Param #   \n",
      "=================================================================\n",
      "vgg19 (Functional)           (None, 5, 5, 512)         20024384  \n",
      "_________________________________________________________________\n",
      "global_average_pooling2d (Gl (None, 512)               0         \n",
      "_________________________________________________________________\n",
      "batch_normalization (BatchNo (None, 512)               2048      \n",
      "_________________________________________________________________\n",
      "flatten (Flatten)            (None, 512)               0         \n",
      "_________________________________________________________________\n",
      "dense (Dense)                (None, 32)                16416     \n",
      "_________________________________________________________________\n",
      "dropout (Dropout)            (None, 32)                0         \n",
      "_________________________________________________________________\n",
      "dense_1 (Dense)              (None, 2)                 66        \n",
      "=================================================================\n",
      "Total params: 20,042,914\n",
      "Trainable params: 20,041,890\n",
      "Non-trainable params: 1,024\n",
      "_________________________________________________________________\n"
     ]
    }
   ],
   "source": [
    "model.summary()"
   ]
  },
  {
   "cell_type": "code",
   "execution_count": 50,
   "metadata": {},
   "outputs": [],
   "source": [
    "model.compile(loss='binary_crossentropy',\n",
    "                  optimizer='adam',\n",
    "                  metrics=['acc'])"
   ]
  },
  {
   "cell_type": "code",
   "execution_count": 51,
   "metadata": {},
   "outputs": [
    {
     "name": "stdout",
     "output_type": "stream",
     "text": [
      "WARNING:tensorflow:From <ipython-input-51-2fcaeedfb370>:1: Model.fit_generator (from tensorflow.python.keras.engine.training) is deprecated and will be removed in a future version.\n",
      "Instructions for updating:\n",
      "Please use Model.fit, which supports generators.\n",
      "Epoch 1/30\n",
      "15/15 [==============================] - ETA: 0s - loss: 0.8135 - acc: 0.5437\n",
      "Epoch 00001: val_acc improved from -inf to 0.53175, saving model to detector.h5\n",
      "15/15 [==============================] - 152s 10s/step - loss: 0.8135 - acc: 0.5437 - val_loss: 7.1817 - val_acc: 0.5317\n",
      "Epoch 2/30\n",
      "15/15 [==============================] - ETA: 0s - loss: 0.7555 - acc: 0.5584\n",
      "Epoch 00002: val_acc did not improve from 0.53175\n",
      "15/15 [==============================] - 146s 10s/step - loss: 0.7555 - acc: 0.5584 - val_loss: 8.2772 - val_acc: 0.4603\n",
      "Epoch 3/30\n",
      "15/15 [==============================] - ETA: 0s - loss: 0.7176 - acc: 0.5138\n",
      "Epoch 00003: val_acc did not improve from 0.53175\n",
      "15/15 [==============================] - 146s 10s/step - loss: 0.7176 - acc: 0.5138 - val_loss: 4.0480 - val_acc: 0.4683\n",
      "Epoch 4/30\n",
      "15/15 [==============================] - ETA: 0s - loss: 0.6887 - acc: 0.5605\n",
      "Epoch 00004: val_acc did not improve from 0.53175\n",
      "15/15 [==============================] - 146s 10s/step - loss: 0.6887 - acc: 0.5605 - val_loss: 1.2036 - val_acc: 0.5317\n",
      "Epoch 5/30\n",
      "15/15 [==============================] - ETA: 0s - loss: 0.7114 - acc: 0.5202\n",
      "Epoch 00005: val_acc did not improve from 0.53175\n",
      "15/15 [==============================] - 146s 10s/step - loss: 0.7114 - acc: 0.5202 - val_loss: 4.5311 - val_acc: 0.4683\n",
      "Epoch 6/30\n",
      "15/15 [==============================] - ETA: 0s - loss: 0.6876 - acc: 0.5648\n",
      "Epoch 00006: val_acc did not improve from 0.53175\n",
      "\n",
      "Epoch 00006: ReduceLROnPlateau reducing learning rate to 0.00010000000474974513.\n",
      "15/15 [==============================] - 146s 10s/step - loss: 0.6876 - acc: 0.5648 - val_loss: 3.2182 - val_acc: 0.4683\n",
      "Epoch 7/30\n",
      "15/15 [==============================] - ETA: 0s - loss: 0.6901 - acc: 0.5563\n",
      "Epoch 00007: val_acc did not improve from 0.53175\n",
      "15/15 [==============================] - 146s 10s/step - loss: 0.6901 - acc: 0.5563 - val_loss: 2.7609 - val_acc: 0.4683\n",
      "Epoch 8/30\n",
      "15/15 [==============================] - ETA: 0s - loss: 0.6727 - acc: 0.5563\n",
      "Epoch 00008: val_acc did not improve from 0.53175\n",
      "15/15 [==============================] - 148s 10s/step - loss: 0.6727 - acc: 0.5563 - val_loss: 3.0138 - val_acc: 0.4683\n",
      "Epoch 9/30\n",
      "15/15 [==============================] - ETA: 0s - loss: 0.6600 - acc: 0.6051\n",
      "Epoch 00009: val_acc did not improve from 0.53175\n",
      "15/15 [==============================] - 148s 10s/step - loss: 0.6600 - acc: 0.6051 - val_loss: 2.1783 - val_acc: 0.4683\n",
      "Epoch 10/30\n",
      "15/15 [==============================] - ETA: 0s - loss: 0.6569 - acc: 0.6072\n",
      "Epoch 00010: val_acc did not improve from 0.53175\n",
      "15/15 [==============================] - 149s 10s/step - loss: 0.6569 - acc: 0.6072 - val_loss: 1.7008 - val_acc: 0.4683\n",
      "Epoch 11/30\n",
      "15/15 [==============================] - ETA: 0s - loss: 0.6594 - acc: 0.5987\n",
      "Epoch 00011: val_acc did not improve from 0.53175\n",
      "\n",
      "Epoch 00011: ReduceLROnPlateau reducing learning rate to 1.0000000474974514e-05.\n",
      "15/15 [==============================] - 146s 10s/step - loss: 0.6594 - acc: 0.5987 - val_loss: 1.5845 - val_acc: 0.4683\n",
      "Epoch 12/30\n",
      "15/15 [==============================] - ETA: 0s - loss: 0.6623 - acc: 0.6030\n",
      "Epoch 00012: val_acc did not improve from 0.53175\n",
      "15/15 [==============================] - 147s 10s/step - loss: 0.6623 - acc: 0.6030 - val_loss: 1.3342 - val_acc: 0.4683\n",
      "Epoch 13/30\n",
      "15/15 [==============================] - ETA: 0s - loss: 0.6835 - acc: 0.5690\n",
      "Epoch 00013: val_acc did not improve from 0.53175\n",
      "15/15 [==============================] - 147s 10s/step - loss: 0.6835 - acc: 0.5690 - val_loss: 1.1791 - val_acc: 0.4683\n",
      "Epoch 14/30\n",
      "15/15 [==============================] - ETA: 0s - loss: 0.6635 - acc: 0.5732\n",
      "Epoch 00014: val_acc did not improve from 0.53175\n",
      "15/15 [==============================] - 145s 10s/step - loss: 0.6635 - acc: 0.5732 - val_loss: 1.0469 - val_acc: 0.4683\n",
      "Epoch 15/30\n",
      "15/15 [==============================] - ETA: 0s - loss: 0.6579 - acc: 0.6136\n",
      "Epoch 00015: val_acc did not improve from 0.53175\n",
      "15/15 [==============================] - 147s 10s/step - loss: 0.6579 - acc: 0.6136 - val_loss: 0.9371 - val_acc: 0.4603\n",
      "Epoch 16/30\n",
      "15/15 [==============================] - ETA: 0s - loss: 0.6564 - acc: 0.6242\n",
      "Epoch 00016: val_acc did not improve from 0.53175\n",
      "\n",
      "Epoch 00016: ReduceLROnPlateau reducing learning rate to 1.0000000656873453e-06.\n",
      "15/15 [==============================] - 146s 10s/step - loss: 0.6564 - acc: 0.6242 - val_loss: 0.8233 - val_acc: 0.4841\n",
      "Epoch 17/30\n",
      "15/15 [==============================] - ETA: 0s - loss: 0.6683 - acc: 0.6072\n",
      "Epoch 00017: val_acc did not improve from 0.53175\n",
      "15/15 [==============================] - 146s 10s/step - loss: 0.6683 - acc: 0.6072 - val_loss: 0.7755 - val_acc: 0.5079\n",
      "Epoch 18/30\n",
      "15/15 [==============================] - ETA: 0s - loss: 0.6541 - acc: 0.6178\n",
      "Epoch 00018: val_acc did not improve from 0.53175\n",
      "15/15 [==============================] - 146s 10s/step - loss: 0.6541 - acc: 0.6178 - val_loss: 0.7387 - val_acc: 0.5238\n",
      "Epoch 19/30\n",
      "15/15 [==============================] - ETA: 0s - loss: 0.6590 - acc: 0.6348\n",
      "Epoch 00019: val_acc improved from 0.53175 to 0.53968, saving model to detector.h5\n",
      "15/15 [==============================] - 147s 10s/step - loss: 0.6590 - acc: 0.6348 - val_loss: 0.7118 - val_acc: 0.5397\n",
      "Epoch 20/30\n",
      "15/15 [==============================] - ETA: 0s - loss: 0.6473 - acc: 0.6306\n",
      "Epoch 00020: val_acc improved from 0.53968 to 0.54762, saving model to detector.h5\n",
      "15/15 [==============================] - 146s 10s/step - loss: 0.6473 - acc: 0.6306 - val_loss: 0.6922 - val_acc: 0.5476\n",
      "Epoch 21/30\n",
      "15/15 [==============================] - ETA: 0s - loss: 0.6299 - acc: 0.6136\n",
      "Epoch 00021: val_acc did not improve from 0.54762\n",
      "15/15 [==============================] - 146s 10s/step - loss: 0.6299 - acc: 0.6136 - val_loss: 0.6794 - val_acc: 0.5238\n",
      "Epoch 22/30\n",
      "15/15 [==============================] - ETA: 0s - loss: 0.6602 - acc: 0.6072\n",
      "Epoch 00022: val_acc did not improve from 0.54762\n",
      "15/15 [==============================] - 145s 10s/step - loss: 0.6602 - acc: 0.6072 - val_loss: 0.6708 - val_acc: 0.5397\n",
      "Epoch 23/30\n",
      "15/15 [==============================] - ETA: 0s - loss: 0.6577 - acc: 0.6051\n",
      "Epoch 00023: val_acc improved from 0.54762 to 0.55556, saving model to detector.h5\n",
      "15/15 [==============================] - 147s 10s/step - loss: 0.6577 - acc: 0.6051 - val_loss: 0.6635 - val_acc: 0.5556\n",
      "Epoch 24/30\n",
      "15/15 [==============================] - ETA: 0s - loss: 0.6406 - acc: 0.6157\n",
      "Epoch 00024: val_acc improved from 0.55556 to 0.56349, saving model to detector.h5\n",
      "15/15 [==============================] - 148s 10s/step - loss: 0.6406 - acc: 0.6157 - val_loss: 0.6583 - val_acc: 0.5635\n",
      "Epoch 25/30\n",
      "15/15 [==============================] - ETA: 0s - loss: 0.6584 - acc: 0.5902\n",
      "Epoch 00025: val_acc improved from 0.56349 to 0.57143, saving model to detector.h5\n",
      "15/15 [==============================] - 146s 10s/step - loss: 0.6584 - acc: 0.5902 - val_loss: 0.6553 - val_acc: 0.5714\n",
      "Epoch 26/30\n",
      "15/15 [==============================] - ETA: 0s - loss: 0.6435 - acc: 0.6178\n",
      "Epoch 00026: val_acc improved from 0.57143 to 0.58730, saving model to detector.h5\n",
      "15/15 [==============================] - 146s 10s/step - loss: 0.6435 - acc: 0.6178 - val_loss: 0.6531 - val_acc: 0.5873\n",
      "Epoch 27/30\n",
      "15/15 [==============================] - ETA: 0s - loss: 0.6582 - acc: 0.6093\n",
      "Epoch 00027: val_acc did not improve from 0.58730\n",
      "15/15 [==============================] - 149s 10s/step - loss: 0.6582 - acc: 0.6093 - val_loss: 0.6517 - val_acc: 0.5873\n",
      "Epoch 28/30\n",
      "15/15 [==============================] - ETA: 0s - loss: 0.6463 - acc: 0.6200\n",
      "Epoch 00028: val_acc improved from 0.58730 to 0.61111, saving model to detector.h5\n",
      "15/15 [==============================] - 146s 10s/step - loss: 0.6463 - acc: 0.6200 - val_loss: 0.6497 - val_acc: 0.6111\n",
      "Epoch 29/30\n",
      "15/15 [==============================] - ETA: 0s - loss: 0.6743 - acc: 0.5966\n",
      "Epoch 00029: val_acc improved from 0.61111 to 0.61905, saving model to detector.h5\n"
     ]
    },
    {
     "name": "stdout",
     "output_type": "stream",
     "text": [
      "15/15 [==============================] - 146s 10s/step - loss: 0.6743 - acc: 0.5966 - val_loss: 0.6494 - val_acc: 0.6190\n",
      "Epoch 30/30\n",
      "15/15 [==============================] - ETA: 0s - loss: 0.6553 - acc: 0.5987\n",
      "Epoch 00030: val_acc did not improve from 0.61905\n",
      "15/15 [==============================] - 146s 10s/step - loss: 0.6553 - acc: 0.5987 - val_loss: 0.6487 - val_acc: 0.6190\n"
     ]
    }
   ],
   "source": [
    "history = model.fit_generator(\n",
    "                              data_aug,\n",
    "                              steps_per_epoch=len(trainX)// batch_size, # parte inteira da divisão\n",
    "                              validation_data=(testX, testY),\n",
    "                              validation_steps=len(testX) // batch_size,# parte inteira da divisão\n",
    "                              callbacks=callbacks,\n",
    "                              epochs=epoch)"
   ]
  },
  {
   "cell_type": "code",
   "execution_count": 52,
   "metadata": {},
   "outputs": [],
   "source": [
    "import matplotlib.pyplot as plt\n",
    "%matplotlib inline"
   ]
  },
  {
   "cell_type": "code",
   "execution_count": 53,
   "metadata": {},
   "outputs": [
    {
     "data": {
      "image/png": "[encoded data removed]",
      "text/plain": [
       "<Figure size 432x288 with 1 Axes>"
      ]
     },
     "metadata": {
      "needs_background": "light"
     },
     "output_type": "display_data"
    },
    {
     "data": {
      "image/png": "[encoded data removed]",
      "text/plain": [
       "<Figure size 432x288 with 1 Axes>"
      ]
     },
     "metadata": {
      "needs_background": "light"
     },
     "output_type": "display_data"
    }
   ],
   "source": [
    "# taxa de acurácia\n",
    "plt.plot(history.history['acc'])\n",
    "plt.plot(history.history['val_acc'])\n",
    "plt.title('model accuracy')\n",
    "plt.ylabel('accuracy')\n",
    "plt.xlabel('epoch')\n",
    "plt.legend(['train', 'test'], loc='upper left')\n",
    "plt.show()\n",
    "# taxa de erro\n",
    "plt.plot(history.history['loss'])\n",
    "plt.plot(history.history['val_loss'])\n",
    "plt.title('model loss')\n",
    "plt.ylabel('loss')\n",
    "plt.xlabel('epoch')\n",
    "plt.legend(['train', 'test'], loc='upper left')\n",
    "plt.show()"
   ]
  },
  {
   "cell_type": "code",
   "execution_count": 54,
   "metadata": {},
   "outputs": [],
   "source": [
    "from sklearn.metrics import confusion_matrix\n",
    "pred = model.predict(testX)\n",
    "pred = np.argmax(pred,axis = 1) \n",
    "y_true = np.argmax(testY,axis = 1)"
   ]
  },
  {
   "cell_type": "code",
   "execution_count": 55,
   "metadata": {},
   "outputs": [
    {
     "name": "stdout",
     "output_type": "stream",
     "text": [
      "Acurácia: 0.6190\n",
      "Sensitividade: 0.8136\n",
      "Especificidade: 0.4478\n"
     ]
    },
    {
     "ename": "ModuleNotFoundError",
     "evalue": "No module named 'mlxtend'",
     "output_type": "error",
     "traceback": [
      "\u001b[1;31m---------------------------------------------------------------------------\u001b[0m",
      "\u001b[1;31mModuleNotFoundError\u001b[0m                       Traceback (most recent call last)",
      "\u001b[1;32m<ipython-input-55-db8bd1db35c4>\u001b[0m in \u001b[0;36m<module>\u001b[1;34m\u001b[0m\n\u001b[0;32m      9\u001b[0m \u001b[0mprint\u001b[0m\u001b[1;33m(\u001b[0m\u001b[1;34m\"Especificidade: {:.4f}\"\u001b[0m\u001b[1;33m.\u001b[0m\u001b[0mformat\u001b[0m\u001b[1;33m(\u001b[0m\u001b[0mspecificity\u001b[0m\u001b[1;33m)\u001b[0m\u001b[1;33m)\u001b[0m\u001b[1;33m\u001b[0m\u001b[1;33m\u001b[0m\u001b[0m\n\u001b[0;32m     10\u001b[0m \u001b[1;33m\u001b[0m\u001b[0m\n\u001b[1;32m---> 11\u001b[1;33m \u001b[1;32mfrom\u001b[0m \u001b[0mmlxtend\u001b[0m\u001b[1;33m.\u001b[0m\u001b[0mplotting\u001b[0m \u001b[1;32mimport\u001b[0m \u001b[0mplot_confusion_matrix\u001b[0m\u001b[1;33m\u001b[0m\u001b[1;33m\u001b[0m\u001b[0m\n\u001b[0m\u001b[0;32m     12\u001b[0m \u001b[0mfig\u001b[0m\u001b[1;33m,\u001b[0m \u001b[0max\u001b[0m \u001b[1;33m=\u001b[0m \u001b[0mplot_confusion_matrix\u001b[0m\u001b[1;33m(\u001b[0m\u001b[0mconf_mat\u001b[0m\u001b[1;33m=\u001b[0m\u001b[0mcm\u001b[0m \u001b[1;33m,\u001b[0m  \u001b[0mfigsize\u001b[0m\u001b[1;33m=\u001b[0m\u001b[1;33m(\u001b[0m\u001b[1;36m5\u001b[0m\u001b[1;33m,\u001b[0m \u001b[1;36m5\u001b[0m\u001b[1;33m)\u001b[0m\u001b[1;33m)\u001b[0m\u001b[1;33m\u001b[0m\u001b[1;33m\u001b[0m\u001b[0m\n\u001b[0;32m     13\u001b[0m \u001b[0mplt\u001b[0m\u001b[1;33m.\u001b[0m\u001b[0mshow\u001b[0m\u001b[1;33m(\u001b[0m\u001b[1;33m)\u001b[0m\u001b[1;33m\u001b[0m\u001b[1;33m\u001b[0m\u001b[0m\n",
      "\u001b[1;31mModuleNotFoundError\u001b[0m: No module named 'mlxtend'"
     ]
    }
   ],
   "source": [
    "cm = confusion_matrix(y_true, pred)\n",
    "total = sum(sum(cm))\n",
    "acc = (cm[0, 0] + cm[1, 1]) / total\n",
    "sensitivity = cm[0, 0] / (cm[0, 0] + cm[0, 1])\n",
    "specificity = cm[1, 1] / (cm[1, 0] + cm[1, 1])\n",
    "\n",
    "print(\"Acurácia: {:.4f}\".format(acc))\n",
    "print(\"Sensitividade: {:.4f}\".format(sensitivity))\n",
    "print(\"Especificidade: {:.4f}\".format(specificity))\n",
    "\n",
    "from mlxtend.plotting import plot_confusion_matrix\n",
    "fig, ax = plot_confusion_matrix(conf_mat=cm ,  figsize=(5, 5))\n",
    "plt.show()"
   ]
  },
  {
   "cell_type": "code",
   "execution_count": null,
   "metadata": {},
   "outputs": [],
   "source": []
  }
 ],
 "metadata": {
  "kernelspec": {
   "display_name": "Python 3",
   "language": "python",
   "name": "python3"
  },
  "language_info": {
   "codemirror_mode": {
    "name": "ipython",
    "version": 3
   },
   "file_extension": ".py",
   "mimetype": "text/x-python",
   "name": "python",
   "nbconvert_exporter": "python",
   "pygments_lexer": "ipython3",
   "version": "3.8.3"
  }
 },
 "nbformat": 4,
 "nbformat_minor": 4
}
